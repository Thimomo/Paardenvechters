{
 "cells": [
  {
   "cell_type": "code",
   "execution_count": 4,
   "id": "5e2df9af",
   "metadata": {},
   "outputs": [],
   "source": [
    "import pandas as pd\n",
    "\n",
    "df = pd.read_csv('faps_fahnutrients.csv')\n",
    "desired_columns = ['hhnum', 'itemnum', 'usdadescmain', 'totgramsunadj',  'totfat', 'totsug', 'energy', 'carb', 'satfat']\n",
    "df_cleaned = df[desired_columns]\n",
    "\n",
    "df_cleaned.to_csv('fah_nutrients_c.csv', index=False)"
   ]
  },
  {
   "cell_type": "code",
   "execution_count": null,
   "id": "2a1185bb",
   "metadata": {},
   "outputs": [],
   "source": [
    "df = pd.read_csv('diabetes_binary_5050split_health_indicators_BRFSS2015.csv')\n",
    "desired_columns = ['Diabetes_binary', 'BMI', 'Smoker', 'PhysActivity', 'Fruits', 'Veggies', 'AnyHealthcare', 'NoDocbcCost', 'GenHlth', 'PhysHlth', 'Sex', 'Age', 'Education', 'Income']\n",
    "df_cleaned = df[desired_columns]\n",
    "df_cleaned.to_csv('diabetes_split.csv', index=False)"
   ]
  }
 ],
 "metadata": {
  "kernelspec": {
   "display_name": "Python 3 (ipykernel)",
   "language": "python",
   "name": "python3"
  },
  "language_info": {
   "codemirror_mode": {
    "name": "ipython",
    "version": 3
   },
   "file_extension": ".py",
   "mimetype": "text/x-python",
   "name": "python",
   "nbconvert_exporter": "python",
   "pygments_lexer": "ipython3",
   "version": "3.11.7"
  }
 },
 "nbformat": 4,
 "nbformat_minor": 5
}
